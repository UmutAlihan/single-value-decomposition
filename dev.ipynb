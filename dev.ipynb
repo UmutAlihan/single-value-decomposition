{
 "cells": [
  {
   "cell_type": "code",
   "execution_count": 4,
   "outputs": [],
   "source": [
    "import tarfile\n",
    "import ast\n",
    "import pandas as pd"
   ],
   "metadata": {
    "collapsed": false,
    "pycharm": {
     "name": "#%%\n"
    }
   }
  },
  {
   "cell_type": "markdown",
   "source": [
    "### Load data"
   ],
   "metadata": {
    "collapsed": false,
    "pycharm": {
     "name": "#%% md\n"
    }
   }
  },
  {
   "cell_type": "code",
   "execution_count": 5,
   "outputs": [
    {
     "name": "stdout",
     "output_type": "stream",
     "text": [
      "Files in tar archive:\n",
      "?rwxr-xr-x julian/julian          0 2016-10-01 00:58:55 lthing_data/ \n",
      "?rw-r--r-- julian/julian    4824989 2014-01-02 20:55:12 lthing_data/edges.txt \n",
      "?rw-rw-r-- julian/julian 1604368260 2016-10-01 00:58:25 lthing_data/reviews.json \n",
      "b\"{'work': '3206242', 'flags': [], 'unixtime': 1194393600, 'stars': 5.0, 'nhelpful': 0, 'time': 'Nov 7, 2007', 'comment': 'This a great book for young readers to be introduced to the world of Middle Earth. ', 'user': 'van_stef'}\\n\"\n",
      "b\"{'work': '12198649', 'flags': [], 'unixtime': 1333756800, 'stars': 5.0, 'nhelpful': 0, 'time': 'Apr 7, 2012', 'comment': 'Help Wanted: Tales of On The Job Terror from Evil Jester Press is a fun and scary read. This book is edited by Peter Giglio and has short stories by Joe McKinney, Gary Brandner, Henry Snider and many more. As if work wasnt already scary enough, this book gives you more reasons to be scared. Help Wanted is an excellent anthology that includes some great stories by some master storytellers.\\\\nOne of the stories includes Agnes: A Love Story by David C. Hayes, which tells the tale of a lawyer named Jack who feels unappreciated at work and by his wife so he starts a relationship with a photocopier. They get along well until the photocopier starts wanting the lawyer to kill for it. The thing I liked about this story was how the author makes you feel sorry for Jack. His two co-workers are happily married and love their jobs while Jack is married to a paranoid alcoholic and he hates and works at a job he cant stand. You completely understand how he can fall in love with a copier because he is a lonely soul that no one understands except the copier of course.\\\\nAnother story in Help Wanted is Work Life Balance by Jeff Strand. In this story a man works for a company that starts to let their employees do what they want at work. It starts with letting them come to work a little later than usual, then the employees are allowed to hug and kiss on the job. Things get really out of hand though when the company starts letting employees carry knives and stab each other, as long as it doesnt interfere with their job. This story is meant to be more funny then scary but still has its scary moments. Jeff Strand does a great job mixing humor and horror in this story.\\\\nAnother good story in Help Wanted: On The Job Terror is The Chapel Of Unrest by Stephen Volk. This is a gothic horror story that takes place in the 1800s and has to deal with an undertaker who has the duty of capturing and embalming a ghoul who has been eating dead bodies in a graveyard. Stephen Volk through his use of imagery in describing the graveyard, the chapel and the clothes of the time, transports you into an 1800s gothic setting that reminded me of Bram Stokers Dracula.\\\\nOne more story in this anthology that I have to mention is Expulsion by Eric Shapiro which tells the tale of a mad man going into a office to kill his fellow employees. This is a very short but very powerful story that gets you into the mind of a disgruntled employee but manages to end on a positive note. Though there were stories I didnt like in Help Wanted, all in all its a very good anthology. I highly recommend this book ', 'user': 'dwatson2'}\\n\"\n",
      "b\"{'work': '12533765', 'flags': [], 'unixtime': 1352937600, 'nhelpful': 0, 'time': 'Nov 15, 2012', 'comment': 'Magoon, K. (2012). Fire in the streets. New York: Simon and Schuster/Aladdin. 336 pp. ISBN: 978-1-4424-2230-8. (Hardcover); $16.99.\\\\nKekla Magoon is an author to watch (http://www.spicyreads.org/Author_Videos.html- scroll down). One of my favorite books from 2007 is Magoons The Rock and the River. At the time, I mentioned in reviews that we have very few books that even mention the Black Panther Party, let alone deal with them in a careful, thorough way. Fire in the Streets continues the story Magoon began in her debut book. While her familys financial fortunes drip away, not helped by her mothers drinking and assortment of boyfriends, the Panthers provide a very real respite for Maxie. Sam is still dealing with the death of his brother. Maxies relationship with Sam only serves to confuse and upset them both. Her friends, Emmalee and Patrice, are slowly drifting away. The Panther Party is the only thing that seems to make sense and she basks in its routine and consistency. She longs to become a full member of the Panthers and constantly battles with her Panther brother Raheem over her maturity and ability to do more than office tasks. Maxie wants to have her own gun. When Maxie discovers that there is someone working with the Panthers that is leaking information to the government about Panther activity, Maxie investigates. Someone is attempting to destroy the only place that offers her shelter. Maxie is determined to discover the identity of the traitor, thinking that this will prove her worth to the organization. However, the truth is not simple and it is filled with pain. Unfortunately we still do not have many teen books that deal substantially with the Democratic National Convention in Chicago, the Black Panther Party, and the social problems in Chicago that lead to the civil unrest. Thankfully, Fire in the Streets lives up to the standard Magoon set with The Rock and the River. Readers will feel like they have stepped back in time. Magoons factual tidbits add journalistic realism to the story and only improves the atmosphere. Maxie has spunk. Readers will empathize with her Atlas-task of trying to hold onto her world. Fire in the Streets belongs in all middle school and high school libraries. While readers are able to read this story independently of The Rock and the River, I strongly urge readers to read both and in order. Magoons recognition by the Coretta Scott King committee and the NAACP Image awards are NOT mistakes!', 'user': 'edspicer'}\\n\"\n",
      "b'{\\'work\\': \\'12981302\\', \\'flags\\': [], \\'unixtime\\': 1364515200, \\'stars\\': 4.0, \\'nhelpful\\': 0, \\'time\\': \\'Mar 29, 2013\\', \\'comment\\': \"Well, I definitely liked this book better than the last in the series. There was less fighting and more story. I liked both Toni and Ricky Lee and thought they were pretty good together. The banter between the two was sweet and often times funny. I enjoyed seeing some of the past characters and of course it\\'s always nice to be introduced to new ones. I just wonder how many more of these books there will be. At least two hopefully, one each for Rory and Reece. \", \\'user\\': \\'amdrane2\\'}\\n'\n"
     ]
    }
   ],
   "source": [
    "with tarfile.open(\"lthing_data.tar.gz\") as tar:\n",
    "    print(\"Files in tar archive:\")\n",
    "    tar.list()\n",
    "\n",
    "    with tar.extractfile(\"lthing_data/reviews.json\") as file:\n",
    "        count = 0\n",
    "        for line in file:\n",
    "            print(line)\n",
    "            count += 1\n",
    "            if count > 3:\n",
    "                break"
   ],
   "metadata": {
    "collapsed": false,
    "pycharm": {
     "name": "#%%\n"
    }
   }
  },
  {
   "cell_type": "code",
   "execution_count": 6,
   "outputs": [
    {
     "name": "stdout",
     "output_type": "stream",
     "text": [
      "1387209 records retrieved\n"
     ]
    }
   ],
   "source": [
    "reviews = []\n",
    "with tarfile.open(\"lthing_data.tar.gz\") as tar:\n",
    "    with tar.extractfile(\"lthing_data/reviews.json\") as file:\n",
    "        for line in file:\n",
    "            record = ast.literal_eval(line.decode(\"utf8\"))\n",
    "            if any(x not in record for x in ['user', 'work', 'stars']):\n",
    "                continue\n",
    "            reviews.append([record['user'], record['work'], record['stars']])\n",
    "print(len(reviews), \"records retrieved\")"
   ],
   "metadata": {
    "collapsed": false,
    "pycharm": {
     "name": "#%%\n"
    }
   }
  },
  {
   "cell_type": "markdown",
   "source": [
    "### make a matrix of how different users rate each book."
   ],
   "metadata": {
    "collapsed": false,
    "pycharm": {
     "name": "#%% md\n"
    }
   }
  },
  {
   "cell_type": "code",
   "execution_count": 13,
   "outputs": [
    {
     "name": "stdout",
     "output_type": "stream",
     "text": [
      "            user      work  stars\n",
      "0       van_stef   3206242    5.0\n",
      "1       dwatson2  12198649    5.0\n",
      "2       amdrane2  12981302    4.0\n",
      "3  Lila_Gustavus   5231009    3.0\n",
      "4      skinglist    184318    2.0\n",
      "#####\n",
      "<class 'pandas.core.frame.DataFrame'>\n",
      "RangeIndex: 1387209 entries, 0 to 1387208\n",
      "Data columns (total 3 columns):\n",
      " #   Column  Non-Null Count    Dtype  \n",
      "---  ------  --------------    -----  \n",
      " 0   user    1387209 non-null  object \n",
      " 1   work    1387209 non-null  object \n",
      " 2   stars   1387209 non-null  float64\n",
      "dtypes: float64(1), object(2)\n",
      "memory usage: 31.8+ MB\n",
      "None\n"
     ]
    }
   ],
   "source": [
    "reviews = pd.DataFrame(reviews, columns=[\"user\", \"work\", \"stars\"])\n",
    "print(reviews.head())\n",
    "print(\"#####\")\n",
    "print(reviews.info())"
   ],
   "metadata": {
    "collapsed": false,
    "pycharm": {
     "name": "#%%\n"
    }
   }
  },
  {
   "cell_type": "markdown",
   "source": [
    "### Use small sample size at first\n",
    "#### consider only those users who reviewed more than 50 books\n",
    "#### and also those books who are reviewed by more than 50 users"
   ],
   "metadata": {
    "collapsed": false,
    "pycharm": {
     "name": "#%% md\n"
    }
   }
  },
  {
   "cell_type": "code",
   "execution_count": 20,
   "outputs": [
    {
     "data": {
      "text/plain": "                 work\nuser                 \n                   84\n%C3%90ark-Angel     1\n---fan              1\n-AlyssaE-          41\n-Carmen-            1\n...               ...\nzzfhickling         2\nzzin                9\nzzpperetin          1\nzzrude              3\nzzshupinga        246\n\n[70619 rows x 1 columns]",
      "text/html": "<div>\n<style scoped>\n    .dataframe tbody tr th:only-of-type {\n        vertical-align: middle;\n    }\n\n    .dataframe tbody tr th {\n        vertical-align: top;\n    }\n\n    .dataframe thead th {\n        text-align: right;\n    }\n</style>\n<table border=\"1\" class=\"dataframe\">\n  <thead>\n    <tr style=\"text-align: right;\">\n      <th></th>\n      <th>work</th>\n    </tr>\n    <tr>\n      <th>user</th>\n      <th></th>\n    </tr>\n  </thead>\n  <tbody>\n    <tr>\n      <th></th>\n      <td>84</td>\n    </tr>\n    <tr>\n      <th>%C3%90ark-Angel</th>\n      <td>1</td>\n    </tr>\n    <tr>\n      <th>---fan</th>\n      <td>1</td>\n    </tr>\n    <tr>\n      <th>-AlyssaE-</th>\n      <td>41</td>\n    </tr>\n    <tr>\n      <th>-Carmen-</th>\n      <td>1</td>\n    </tr>\n    <tr>\n      <th>...</th>\n      <td>...</td>\n    </tr>\n    <tr>\n      <th>zzfhickling</th>\n      <td>2</td>\n    </tr>\n    <tr>\n      <th>zzin</th>\n      <td>9</td>\n    </tr>\n    <tr>\n      <th>zzpperetin</th>\n      <td>1</td>\n    </tr>\n    <tr>\n      <th>zzrude</th>\n      <td>3</td>\n    </tr>\n    <tr>\n      <th>zzshupinga</th>\n      <td>246</td>\n    </tr>\n  </tbody>\n</table>\n<p>70619 rows × 1 columns</p>\n</div>"
     },
     "execution_count": 20,
     "metadata": {},
     "output_type": "execute_result"
    }
   ],
   "source": [
    "usercount = reviews[[\"work\",\"user\"]].groupby(\"user\").count()\n",
    "usercount"
   ],
   "metadata": {
    "collapsed": false,
    "pycharm": {
     "name": "#%%\n"
    }
   }
  },
  {
   "cell_type": "code",
   "execution_count": 18,
   "outputs": [
    {
     "data": {
      "text/plain": "            work\nuser            \n              84\n-Eva-        602\n06nwingert   370\n1983mk        63\n1dragones    194\n...          ...\nzjakkelien   121\nzmagic69     148\nzquilts       67\nzwaantje     121\nzzshupinga   246\n\n[5736 rows x 1 columns]",
      "text/html": "<div>\n<style scoped>\n    .dataframe tbody tr th:only-of-type {\n        vertical-align: middle;\n    }\n\n    .dataframe tbody tr th {\n        vertical-align: top;\n    }\n\n    .dataframe thead th {\n        text-align: right;\n    }\n</style>\n<table border=\"1\" class=\"dataframe\">\n  <thead>\n    <tr style=\"text-align: right;\">\n      <th></th>\n      <th>work</th>\n    </tr>\n    <tr>\n      <th>user</th>\n      <th></th>\n    </tr>\n  </thead>\n  <tbody>\n    <tr>\n      <th></th>\n      <td>84</td>\n    </tr>\n    <tr>\n      <th>-Eva-</th>\n      <td>602</td>\n    </tr>\n    <tr>\n      <th>06nwingert</th>\n      <td>370</td>\n    </tr>\n    <tr>\n      <th>1983mk</th>\n      <td>63</td>\n    </tr>\n    <tr>\n      <th>1dragones</th>\n      <td>194</td>\n    </tr>\n    <tr>\n      <th>...</th>\n      <td>...</td>\n    </tr>\n    <tr>\n      <th>zjakkelien</th>\n      <td>121</td>\n    </tr>\n    <tr>\n      <th>zmagic69</th>\n      <td>148</td>\n    </tr>\n    <tr>\n      <th>zquilts</th>\n      <td>67</td>\n    </tr>\n    <tr>\n      <th>zwaantje</th>\n      <td>121</td>\n    </tr>\n    <tr>\n      <th>zzshupinga</th>\n      <td>246</td>\n    </tr>\n  </tbody>\n</table>\n<p>5736 rows × 1 columns</p>\n</div>"
     },
     "execution_count": 18,
     "metadata": {},
     "output_type": "execute_result"
    }
   ],
   "source": [
    "usercount[usercount[\"work\"] >= 50]"
   ],
   "metadata": {
    "collapsed": false,
    "pycharm": {
     "name": "#%%\n"
    }
   }
  },
  {
   "cell_type": "code",
   "execution_count": 23,
   "outputs": [
    {
     "name": "stdout",
     "output_type": "stream",
     "text": [
      "            work\n",
      "user            \n",
      "              84\n",
      "-Eva-        602\n",
      "06nwingert   370\n",
      "1983mk        63\n",
      "1dragones    194\n"
     ]
    }
   ],
   "source": [
    "usercount = reviews[[\"work\",\"user\"]].groupby(\"user\").count() # count amount of books reviewed for each user\n",
    "usercount = usercount[usercount[\"work\"] >= 50] # filter users reviewed more than 50 books\n",
    "print(usercount.head())"
   ],
   "metadata": {
    "collapsed": false,
    "pycharm": {
     "name": "#%%\n"
    }
   }
  },
  {
   "cell_type": "code",
   "execution_count": 25,
   "outputs": [
    {
     "data": {
      "text/plain": "          user\nwork          \n1000         9\n10000      106\n10000001     1\n1000009      2\n1000019      1\n...        ...\n999973       1\n999974       1\n9999742      1\n9999773      1\n999986       2\n\n[385252 rows x 1 columns]",
      "text/html": "<div>\n<style scoped>\n    .dataframe tbody tr th:only-of-type {\n        vertical-align: middle;\n    }\n\n    .dataframe tbody tr th {\n        vertical-align: top;\n    }\n\n    .dataframe thead th {\n        text-align: right;\n    }\n</style>\n<table border=\"1\" class=\"dataframe\">\n  <thead>\n    <tr style=\"text-align: right;\">\n      <th></th>\n      <th>user</th>\n    </tr>\n    <tr>\n      <th>work</th>\n      <th></th>\n    </tr>\n  </thead>\n  <tbody>\n    <tr>\n      <th>1000</th>\n      <td>9</td>\n    </tr>\n    <tr>\n      <th>10000</th>\n      <td>106</td>\n    </tr>\n    <tr>\n      <th>10000001</th>\n      <td>1</td>\n    </tr>\n    <tr>\n      <th>1000009</th>\n      <td>2</td>\n    </tr>\n    <tr>\n      <th>1000019</th>\n      <td>1</td>\n    </tr>\n    <tr>\n      <th>...</th>\n      <td>...</td>\n    </tr>\n    <tr>\n      <th>999973</th>\n      <td>1</td>\n    </tr>\n    <tr>\n      <th>999974</th>\n      <td>1</td>\n    </tr>\n    <tr>\n      <th>9999742</th>\n      <td>1</td>\n    </tr>\n    <tr>\n      <th>9999773</th>\n      <td>1</td>\n    </tr>\n    <tr>\n      <th>999986</th>\n      <td>2</td>\n    </tr>\n  </tbody>\n</table>\n<p>385252 rows × 1 columns</p>\n</div>"
     },
     "execution_count": 25,
     "metadata": {},
     "output_type": "execute_result"
    }
   ],
   "source": [
    "# Look for the books who reviewed by more than 50 users\n",
    "workcount = reviews[[\"work\",\"user\"]].groupby(\"work\").count()\n",
    "workcount"
   ],
   "metadata": {
    "collapsed": false,
    "pycharm": {
     "name": "#%%\n"
    }
   }
  },
  {
   "cell_type": "code",
   "execution_count": 27,
   "outputs": [
    {
     "data": {
      "text/plain": "          user\nwork          \n10000      106\n10001       53\n1000167    186\n10001797    53\n10005525   134",
      "text/html": "<div>\n<style scoped>\n    .dataframe tbody tr th:only-of-type {\n        vertical-align: middle;\n    }\n\n    .dataframe tbody tr th {\n        vertical-align: top;\n    }\n\n    .dataframe thead th {\n        text-align: right;\n    }\n</style>\n<table border=\"1\" class=\"dataframe\">\n  <thead>\n    <tr style=\"text-align: right;\">\n      <th></th>\n      <th>user</th>\n    </tr>\n    <tr>\n      <th>work</th>\n      <th></th>\n    </tr>\n  </thead>\n  <tbody>\n    <tr>\n      <th>10000</th>\n      <td>106</td>\n    </tr>\n    <tr>\n      <th>10001</th>\n      <td>53</td>\n    </tr>\n    <tr>\n      <th>1000167</th>\n      <td>186</td>\n    </tr>\n    <tr>\n      <th>10001797</th>\n      <td>53</td>\n    </tr>\n    <tr>\n      <th>10005525</th>\n      <td>134</td>\n    </tr>\n  </tbody>\n</table>\n</div>"
     },
     "execution_count": 27,
     "metadata": {},
     "output_type": "execute_result"
    }
   ],
   "source": [
    "workcount = workcount[workcount[\"user\"] >= 50]\n",
    "workcount.head()"
   ],
   "metadata": {
    "collapsed": false,
    "pycharm": {
     "name": "#%%\n"
    }
   }
  },
  {
   "cell_type": "code",
   "execution_count": 29,
   "outputs": [
    {
     "name": "stdout",
     "output_type": "stream",
     "text": [
      "                user     work  stars\n",
      "0           van_stef  3206242    5.0\n",
      "6            justine     3067    4.5\n",
      "18           stephmo  1594925    4.0\n",
      "19         Eyejaybee  2849559    5.0\n",
      "35       LisaMaria_C   452949    4.5\n",
      "...              ...      ...    ...\n",
      "1387161     connie53     1653    4.0\n",
      "1387177   BruderBane    24623    4.5\n",
      "1387192  StuartAston  8282225    4.0\n",
      "1387202      danielx  9759186    4.0\n",
      "1387206     jclark88  8253945    3.0\n",
      "\n",
      "[205110 rows x 3 columns]\n"
     ]
    }
   ],
   "source": [
    "# Keep only the popular books and active users\n",
    "reviews = reviews[reviews[\"user\"].isin(usercount.index) & reviews[\"work\"].isin(workcount.index)]\n",
    "print(reviews)"
   ],
   "metadata": {
    "collapsed": false,
    "pycharm": {
     "name": "#%%\n"
    }
   }
  },
  {
   "cell_type": "code",
   "execution_count": 33,
   "outputs": [
    {
     "name": "stdout",
     "output_type": "stream",
     "text": [
      "(5593, 2898)\n",
      "work        10000  10001  1000167  10001797  10005525  10007394  10007399  \\\n",
      "user                                                                        \n",
      "              0.0    0.0      0.0       0.0       0.0       0.0       0.0   \n",
      "-Eva-         0.0    0.0      0.0       0.0       0.0       0.0       0.0   \n",
      "06nwingert    0.0    0.0      0.0       0.0       0.0       0.0       0.0   \n",
      "1983mk        0.0    0.0      0.0       0.0       0.0       0.0       0.0   \n",
      "1dragones     5.0    4.0      0.0       0.0       0.0       0.0       0.0   \n",
      "...           ...    ...      ...       ...       ...       ...       ...   \n",
      "zjakkelien    0.0    0.0      0.0       0.0       0.0       0.0       0.0   \n",
      "zmagic69      0.0    0.0      0.0       0.0       0.0       0.0       0.0   \n",
      "zquilts       0.0    0.0      0.0       0.0       0.0       0.0       0.0   \n",
      "zwaantje      0.0    0.0      0.0       0.0       0.0       0.0       0.0   \n",
      "zzshupinga    0.0    0.0      0.0       0.0       0.0       0.0       0.0   \n",
      "\n",
      "work        10009  10012725  10012975  ...  9978  9979582  9984  9986454  \\\n",
      "user                                   ...                                 \n",
      "              0.0       0.0       0.0  ...   0.0      0.0   0.0      0.0   \n",
      "-Eva-         0.0       0.0       0.0  ...   0.0      3.5   0.0      0.0   \n",
      "06nwingert    0.0       0.0       0.0  ...   0.0      0.0   0.0      0.0   \n",
      "1983mk        0.0       0.0       0.0  ...   0.0      0.0   0.0      0.0   \n",
      "1dragones     0.0       0.0       0.0  ...   0.0      0.0   0.0      0.0   \n",
      "...           ...       ...       ...  ...   ...      ...   ...      ...   \n",
      "zjakkelien    0.0       0.0       0.0  ...   0.0      0.0   0.0      0.0   \n",
      "zmagic69      0.0       0.0       0.0  ...   0.0      0.0   0.0      0.0   \n",
      "zquilts       0.0       0.0       0.0  ...   0.0      0.0   0.0      0.0   \n",
      "zwaantje      0.0       0.0       0.0  ...   0.0      0.0   0.0      0.0   \n",
      "zzshupinga    0.0       0.0       0.0  ...   0.0      0.0   0.0      0.0   \n",
      "\n",
      "work        9989632  9989655  9989664  9993  9997232  9998  \n",
      "user                                                        \n",
      "                0.0      0.0      0.0   0.0      0.0   0.0  \n",
      "-Eva-           0.0      0.0      0.0   0.0      0.0   0.0  \n",
      "06nwingert      0.0      0.0      0.0   0.0      0.0   0.0  \n",
      "1983mk          0.0      0.0      0.0   0.0      0.0   0.0  \n",
      "1dragones       0.0      4.0      0.0   0.0      0.0   0.0  \n",
      "...             ...      ...      ...   ...      ...   ...  \n",
      "zjakkelien      0.0      0.0      0.0   0.0      0.0   0.0  \n",
      "zmagic69        0.0      0.0      0.0   0.0      0.0   0.0  \n",
      "zquilts         0.0      0.0      0.0   0.0      0.0   0.0  \n",
      "zwaantje        0.0      0.0      0.0   0.0      0.0   0.0  \n",
      "zzshupinga      0.0      0.0      0.0   0.0      0.0   0.0  \n",
      "\n",
      "[5593 rows x 2898 columns]\n"
     ]
    }
   ],
   "source": [
    "# convert  top 50 work reviewers and reviewed works\n",
    "reviewmatrix = reviews.pivot(index=\"user\", columns=\"work\", values=\"stars\").fillna(0)\n",
    "print(reviewmatrix.shape)\n",
    "print(reviewmatrix)"
   ],
   "metadata": {
    "collapsed": false,
    "pycharm": {
     "name": "#%%\n"
    }
   }
  },
  {
   "cell_type": "markdown",
   "source": [
    "### Apply SVD to the matrix"
   ],
   "metadata": {
    "collapsed": false,
    "pycharm": {
     "name": "#%% md\n"
    }
   }
  },
  {
   "cell_type": "code",
   "execution_count": 34,
   "outputs": [],
   "source": [
    "from numpy.linalg import svd"
   ],
   "metadata": {
    "collapsed": false,
    "pycharm": {
     "name": "#%%\n"
    }
   }
  },
  {
   "cell_type": "code",
   "execution_count": 35,
   "outputs": [],
   "source": [
    "matrix = reviewmatrix.values"
   ],
   "metadata": {
    "collapsed": false,
    "pycharm": {
     "name": "#%%\n"
    }
   }
  },
  {
   "cell_type": "code",
   "execution_count": 37,
   "outputs": [],
   "source": [
    "# svd() returns a full singular value decomposition\n",
    "u, s, vh = svd(matrix, full_matrices=False)"
   ],
   "metadata": {
    "collapsed": false,
    "pycharm": {
     "name": "#%%\n"
    }
   }
  },
  {
   "cell_type": "markdown",
   "source": [
    "columns of vh: correspond to the books\n",
    "base on vector space model to find which book are most similar to one we look at\n",
    "try to find the book that is best match to to first column"
   ],
   "metadata": {
    "collapsed": false,
    "pycharm": {
     "name": "#%% md\n"
    }
   }
  },
  {
   "cell_type": "code",
   "execution_count": 47,
   "outputs": [
    {
     "name": "stdout",
     "output_type": "stream",
     "text": [
      "Column 2092 is most similar to column 0\n"
     ]
    }
   ],
   "source": [
    "import numpy as np\n",
    "def cosine_similarity(v,u):\n",
    "    return (v @ u)/ (np.linalg.norm(v) * np.linalg.norm(u))\n",
    "\n",
    "highest_similarity = -np.inf\n",
    "highest_sim_col = -1\n",
    "for col in range(1,vh.shape[1]):\n",
    "    similarity = cosine_similarity(vh[:,0], vh[:,col])\n",
    "    if similarity > highest_similarity:\n",
    "        highest_similarity = similarity\n",
    "        highest_sim_col = col\n",
    "\n",
    "print(\"Column %d is most similar to column 0\" % highest_sim_col)"
   ],
   "metadata": {
    "collapsed": false,
    "pycharm": {
     "name": "#%%\n"
    }
   }
  },
  {
   "cell_type": "markdown",
   "source": [
    "when a user picked a book\n",
    "we may show her a few other books that are similar to the one she picked based on the cosine distance as calculated above\n",
    "\n",
    "we may use truncated SVD to reduce the dimension of matrix vh\n",
    "this means we are removing several rows on vh that the corresponding singular values in s are small,\n",
    "before we use it to compute the similarity.\n",
    "\n",
    "This would likely make the prediction more accurate as those less important features of a book are removed from consideration.\n",
    "\n",
    "in the decomposition M = U * Σ * V^T;\n",
    "the rows of U are the users and columns of V^T are books\n",
    "can't identify the meanings of the columns of U or rows of V^T; genre, what?\n",
    "but we can use them as **features** in recommendation system"
   ],
   "metadata": {
    "collapsed": false,
    "pycharm": {
     "name": "#%% md\n"
    }
   }
  },
  {
   "cell_type": "code",
   "execution_count": null,
   "outputs": [],
   "source": [],
   "metadata": {
    "collapsed": false,
    "pycharm": {
     "name": "#%%\n"
    }
   }
  }
 ],
 "metadata": {
  "kernelspec": {
   "name": "python3",
   "language": "python",
   "display_name": "Python 3 (ipykernel)"
  },
  "language_info": {
   "codemirror_mode": {
    "name": "ipython",
    "version": 2
   },
   "file_extension": ".py",
   "mimetype": "text/x-python",
   "name": "python",
   "nbconvert_exporter": "python",
   "pygments_lexer": "ipython2",
   "version": "2.7.6"
  }
 },
 "nbformat": 4,
 "nbformat_minor": 0
}